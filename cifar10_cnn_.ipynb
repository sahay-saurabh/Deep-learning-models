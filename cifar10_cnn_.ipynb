{
  "nbformat": 4,
  "nbformat_minor": 0,
  "metadata": {
    "colab": {
      "name": "cifar10_cnn_.ipynb",
      "provenance": []
    },
    "kernelspec": {
      "name": "python3",
      "display_name": "Python 3"
    },
    "language_info": {
      "name": "python"
    },
    "accelerator": "GPU",
    "gpuClass": "standard"
  },
  "cells": [
    {
      "cell_type": "code",
      "execution_count": null,
      "metadata": {
        "id": "Owx2iYmlFqM4"
      },
      "outputs": [],
      "source": [
        "import tensorflow as tf"
      ]
    },
    {
      "cell_type": "code",
      "source": [
        "import numpy as np\n",
        "import matplotlib.pyplot as plt\n",
        "from tensorflow.keras.layers import Conv2D, Input, Dense, Dropout, Flatten, GlobalAveragePooling2D\n",
        "from tensorflow.keras.models import Model"
      ],
      "metadata": {
        "id": "Hc1N5kV8F-_b"
      },
      "execution_count": null,
      "outputs": []
    },
    {
      "cell_type": "code",
      "source": [
        "cifar10 = tf.keras.datasets.cifar10\n",
        "\n",
        "(x_train,y_train),(x_test, y_test) = cifar10.load_data()\n",
        "\n",
        "x_train, x_test = x_train/255.0, x_test/255.0\n",
        "y_train, y_test = y_train.flatten(), y_test.flatten()\n",
        "print('x_train.shape ',x_train.shape)"
      ],
      "metadata": {
        "colab": {
          "base_uri": "https://localhost:8080/"
        },
        "id": "WUewTMS1GfpD",
        "outputId": "0e811ebe-ff5e-4347-828b-ac0e7e1c74a7"
      },
      "execution_count": null,
      "outputs": [
        {
          "output_type": "stream",
          "name": "stdout",
          "text": [
            "x_train.shape  (50000, 32, 32, 3)\n"
          ]
        }
      ]
    },
    {
      "cell_type": "code",
      "source": [
        "k = len(set(y_train))\n",
        "print('no. of classes ',k)"
      ],
      "metadata": {
        "colab": {
          "base_uri": "https://localhost:8080/"
        },
        "id": "CahAKtcnHGCE",
        "outputId": "cc348861-2541-4930-b3e4-1bd94a2be1b5"
      },
      "execution_count": null,
      "outputs": [
        {
          "output_type": "stream",
          "name": "stdout",
          "text": [
            "no. of classes  10\n"
          ]
        }
      ]
    },
    {
      "cell_type": "code",
      "source": [
        "i = Input(shape = x_train[0].shape)\n",
        "x = Conv2D(32, (3,3), strides = 2, activation = 'relu')(i)\n",
        "x = Conv2D(64, (3,3), strides = 2, activation = 'relu')(x)\n",
        "x = Conv2D(128, (3,3), strides = 2, activation = 'relu')(x)\n",
        "\n",
        "x = Flatten()(x)\n",
        "x = Dropout(0.5)(x)\n",
        "x = Dense(1024, activation = 'relu')(x)\n",
        "x = Dropout(0.2)(x)\n",
        "x = Dense(k, activation = 'softmax')(x)\n",
        "\n",
        "model = Model(i,x)\n",
        "\n"
      ],
      "metadata": {
        "id": "GEhk2ZmGG1w8"
      },
      "execution_count": null,
      "outputs": []
    },
    {
      "cell_type": "code",
      "source": [
        "model.compile(optimizer = 'adam',\n",
        "              loss = 'sparse_categorical_crossentropy',\n",
        "              metrics = ['accuracy'])\n",
        "\n",
        "r = model.fit(x_train, y_train, validation_data = (x_test, y_test), epochs = 15)"
      ],
      "metadata": {
        "colab": {
          "base_uri": "https://localhost:8080/"
        },
        "id": "RheD3GtZInC4",
        "outputId": "f87e68f2-ab5c-455e-d4a2-3268c45058ed"
      },
      "execution_count": null,
      "outputs": [
        {
          "output_type": "stream",
          "name": "stdout",
          "text": [
            "Epoch 1/15\n",
            "1563/1563 [==============================] - 18s 4ms/step - loss: 1.5685 - accuracy: 0.4256 - val_loss: 1.2982 - val_accuracy: 0.5373\n",
            "Epoch 2/15\n",
            "1563/1563 [==============================] - 7s 4ms/step - loss: 1.2844 - accuracy: 0.5395 - val_loss: 1.1114 - val_accuracy: 0.6037\n",
            "Epoch 3/15\n",
            "1563/1563 [==============================] - 7s 4ms/step - loss: 1.1580 - accuracy: 0.5840 - val_loss: 1.0633 - val_accuracy: 0.6191\n",
            "Epoch 4/15\n",
            "1563/1563 [==============================] - 7s 4ms/step - loss: 1.0677 - accuracy: 0.6186 - val_loss: 0.9818 - val_accuracy: 0.6524\n",
            "Epoch 5/15\n",
            "1563/1563 [==============================] - 7s 4ms/step - loss: 0.9903 - accuracy: 0.6508 - val_loss: 0.9395 - val_accuracy: 0.6724\n",
            "Epoch 6/15\n",
            "1563/1563 [==============================] - 6s 4ms/step - loss: 0.9324 - accuracy: 0.6661 - val_loss: 0.9146 - val_accuracy: 0.6858\n",
            "Epoch 7/15\n",
            "1563/1563 [==============================] - 7s 4ms/step - loss: 0.8748 - accuracy: 0.6897 - val_loss: 0.8930 - val_accuracy: 0.6935\n",
            "Epoch 8/15\n",
            "1563/1563 [==============================] - 7s 4ms/step - loss: 0.8331 - accuracy: 0.7033 - val_loss: 0.8731 - val_accuracy: 0.6948\n",
            "Epoch 9/15\n",
            "1563/1563 [==============================] - 7s 4ms/step - loss: 0.8008 - accuracy: 0.7144 - val_loss: 0.8662 - val_accuracy: 0.6987\n",
            "Epoch 10/15\n",
            "1563/1563 [==============================] - 7s 4ms/step - loss: 0.7596 - accuracy: 0.7292 - val_loss: 0.8308 - val_accuracy: 0.7143\n",
            "Epoch 11/15\n",
            "1563/1563 [==============================] - 6s 4ms/step - loss: 0.7403 - accuracy: 0.7358 - val_loss: 0.8211 - val_accuracy: 0.7172\n",
            "Epoch 12/15\n",
            "1563/1563 [==============================] - 6s 4ms/step - loss: 0.7060 - accuracy: 0.7461 - val_loss: 0.8032 - val_accuracy: 0.7252\n",
            "Epoch 13/15\n",
            "1563/1563 [==============================] - 7s 4ms/step - loss: 0.6815 - accuracy: 0.7569 - val_loss: 0.8325 - val_accuracy: 0.7143\n",
            "Epoch 14/15\n",
            "1563/1563 [==============================] - 7s 4ms/step - loss: 0.6653 - accuracy: 0.7628 - val_loss: 0.8225 - val_accuracy: 0.7145\n",
            "Epoch 15/15\n",
            "1563/1563 [==============================] - 7s 4ms/step - loss: 0.6463 - accuracy: 0.7697 - val_loss: 0.8135 - val_accuracy: 0.7213\n"
          ]
        }
      ]
    },
    {
      "cell_type": "code",
      "source": [
        "plt.plot(r.history['loss'], label = 'loss')\n",
        "plt.plot(r.history['val_loss'], label = 'val_loss')\n",
        "plt.legend()"
      ],
      "metadata": {
        "colab": {
          "base_uri": "https://localhost:8080/",
          "height": 283
        },
        "id": "hmh2R2X1JC_6",
        "outputId": "9c027101-760e-47fb-f79e-d4845abd1882"
      },
      "execution_count": null,
      "outputs": [
        {
          "output_type": "execute_result",
          "data": {
            "text/plain": [
              "<matplotlib.legend.Legend at 0x7fa8420d91d0>"
            ]
          },
          "metadata": {},
          "execution_count": 9
        },
        {
          "output_type": "display_data",
          "data": {
            "text/plain": [
              "<Figure size 432x288 with 1 Axes>"
            ],
            "image/png": "[encoded data removed]"
          },
          "metadata": {
            "needs_background": "light"
          }
        }
      ]
    },
    {
      "cell_type": "code",
      "source": [
        "plt.plot(r.history['accuracy'], label = 'accuarcy')\n",
        "plt.plot(r.history['val_accuracy'], label ='val_accuracy')\n",
        "plt.legend()"
      ],
      "metadata": {
        "colab": {
          "base_uri": "https://localhost:8080/",
          "height": 282
        },
        "id": "eBstkrSPJnW2",
        "outputId": "0fc2c86a-4fe7-4724-9ce5-3685ec5df807"
      },
      "execution_count": null,
      "outputs": [
        {
          "output_type": "execute_result",
          "data": {
            "text/plain": [
              "<matplotlib.legend.Legend at 0x7fa84210d210>"
            ]
          },
          "metadata": {},
          "execution_count": 10
        },
        {
          "output_type": "display_data",
          "data": {
            "text/plain": [
              "<Figure size 432x288 with 1 Axes>"
            ],
            "image/png": "[encoded data removed]"
          },
          "metadata": {
            "needs_background": "light"
          }
        }
      ]
    },
    {
      "cell_type": "code",
      "source": [
        "p_test = model.predict(x_test).argmax(axis=1)\n",
        "miss_idx = np.where(p_test !=y_test)[0]\n",
        "i = np.random.choice(miss_idx)\n",
        "plt.imshow(x_test[i],cmap='gray')\n",
        "print('true label is {} predicted is {}'.format(y_test[i],p_test[i]))"
      ],
      "metadata": {
        "colab": {
          "base_uri": "https://localhost:8080/",
          "height": 283
        },
        "id": "E_sI61KmJq4V",
        "outputId": "e48cd0e4-14bb-49fb-cdf2-a40957a9b018"
      },
      "execution_count": null,
      "outputs": [
        {
          "output_type": "stream",
          "name": "stdout",
          "text": [
            "true label is 4 predicted is 6\n"
          ]
        },
        {
          "output_type": "display_data",
          "data": {
            "text/plain": [
              "<Figure size 432x288 with 1 Axes>"
            ],
            "image/png": "[encoded data removed]"
          },
          "metadata": {
            "needs_background": "light"
          }
        }
      ]
    },
    {
      "cell_type": "code",
      "source": [
        "model.evaluate(x_test,y_test)"
      ],
      "metadata": {
        "colab": {
          "base_uri": "https://localhost:8080/"
        },
        "id": "kIWu3Rt6J8VR",
        "outputId": "eb5b748f-0bd5-4458-d6cd-932c10a16bdb"
      },
      "execution_count": null,
      "outputs": [
        {
          "output_type": "stream",
          "name": "stdout",
          "text": [
            "313/313 [==============================] - 1s 3ms/step - loss: 0.8135 - accuracy: 0.7213\n"
          ]
        },
        {
          "output_type": "execute_result",
          "data": {
            "text/plain": [
              "[0.8134695887565613, 0.7213000059127808]"
            ]
          },
          "metadata": {},
          "execution_count": 16
        }
      ]
    },
    {
      "cell_type": "code",
      "source": [
        "from sklearn.metrics import confusion_matrix,classification_report\n",
        "\n",
        "y_pred=model.predict(x_test)\n",
        "y_pred_classes=[np.argmax(element) for element in y_pred]\n",
        "\n",
        "print(\"classification report\\n \",classification_report(y_test,y_pred_classes))"
      ],
      "metadata": {
        "colab": {
          "base_uri": "https://localhost:8080/"
        },
        "id": "hjjLpjhKKlri",
        "outputId": "9db6ff53-869b-4eac-ee94-e69910919ef5"
      },
      "execution_count": null,
      "outputs": [
        {
          "output_type": "stream",
          "name": "stdout",
          "text": [
            "classification report\n",
            "                precision    recall  f1-score   support\n",
            "\n",
            "           0       0.72      0.79      0.75      1000\n",
            "           1       0.86      0.82      0.84      1000\n",
            "           2       0.70      0.55      0.62      1000\n",
            "           3       0.59      0.48      0.53      1000\n",
            "           4       0.69      0.65      0.67      1000\n",
            "           5       0.65      0.62      0.64      1000\n",
            "           6       0.69      0.84      0.76      1000\n",
            "           7       0.74      0.80      0.77      1000\n",
            "           8       0.78      0.84      0.81      1000\n",
            "           9       0.76      0.83      0.79      1000\n",
            "\n",
            "    accuracy                           0.72     10000\n",
            "   macro avg       0.72      0.72      0.72     10000\n",
            "weighted avg       0.72      0.72      0.72     10000\n",
            "\n"
          ]
        }
      ]
    },
    {
      "cell_type": "code",
      "source": [
        ""
      ],
      "metadata": {
        "id": "GYeEtsc2LEef"
      },
      "execution_count": null,
      "outputs": []
    }
  ]
}