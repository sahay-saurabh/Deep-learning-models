{
  "nbformat": 4,
  "nbformat_minor": 0,
  "metadata": {
    "colab": {
      "name": "mnist_fashio_cnn.ipynb",
      "provenance": []
    },
    "kernelspec": {
      "name": "python3",
      "display_name": "Python 3"
    },
    "language_info": {
      "name": "python"
    }
  },
  "cells": [
    {
      "cell_type": "code",
      "execution_count": null,
      "metadata": {
        "id": "eWd7l9nCNaTI"
      },
      "outputs": [],
      "source": [
        "import tensorflow as tf"
      ]
    },
    {
      "cell_type": "code",
      "source": [
        "import numpy as np\n",
        "import matplotlib.pyplot as plt\n",
        "from tensorflow.keras.layers import Input, Conv2D, Dense, Dropout, Flatten\n",
        "from tensorflow.keras.models import Model "
      ],
      "metadata": {
        "id": "fFxb8gRCNlaW"
      },
      "execution_count": null,
      "outputs": []
    },
    {
      "cell_type": "code",
      "source": [
        "#Load the data\n",
        "\n",
        "fashion_mnist = tf.keras.datasets.fashion_mnist\n",
        "\n",
        "(x_train,y_train),(x_test,y_test) = fashion_mnist.load_data()\n",
        "x_train,x_test = x_train/255.0 , x_test/255.0\n",
        "\n",
        "print('xtrain.shape',x_train.shape)"
      ],
      "metadata": {
        "colab": {
          "base_uri": "https://localhost:8080/"
        },
        "id": "C-XQqCdBOGe8",
        "outputId": "f43d511c-3ffc-4bbb-fcd1-55e701305e98"
      },
      "execution_count": null,
      "outputs": [
        {
          "output_type": "stream",
          "name": "stdout",
          "text": [
            "Downloading data from https://storage.googleapis.com/tensorflow/tf-keras-datasets/train-labels-idx1-ubyte.gz\n",
            "32768/29515 [=================================] - 0s 0us/step\n",
            "40960/29515 [=========================================] - 0s 0us/step\n",
            "Downloading data from https://storage.googleapis.com/tensorflow/tf-keras-datasets/train-images-idx3-ubyte.gz\n",
            "26427392/26421880 [==============================] - 0s 0us/step\n",
            "26435584/26421880 [==============================] - 0s 0us/step\n",
            "Downloading data from https://storage.googleapis.com/tensorflow/tf-keras-datasets/t10k-labels-idx1-ubyte.gz\n",
            "16384/5148 [===============================================================================================] - 0s 0us/step\n",
            "Downloading data from https://storage.googleapis.com/tensorflow/tf-keras-datasets/t10k-images-idx3-ubyte.gz\n",
            "4423680/4422102 [==============================] - 0s 0us/step\n",
            "4431872/4422102 [==============================] - 0s 0us/step\n",
            "xtrain.shape (60000, 28, 28)\n"
          ]
        }
      ]
    },
    {
      "cell_type": "code",
      "source": [
        "# the data is only 2d\n",
        "# convolution expects height * widht * color\n",
        "\n",
        "x_train = np.expand_dims(x_train, -1)\n",
        "x_test = np.expand_dims(x_test, -1)\n",
        "\n",
        "print(x_train.shape)"
      ],
      "metadata": {
        "colab": {
          "base_uri": "https://localhost:8080/"
        },
        "id": "M3u_lUAaOuA0",
        "outputId": "f5c0f9a2-9c41-4da7-c5e8-8921185ef184"
      },
      "execution_count": null,
      "outputs": [
        {
          "output_type": "stream",
          "name": "stdout",
          "text": [
            "(60000, 28, 28, 1)\n"
          ]
        }
      ]
    },
    {
      "cell_type": "code",
      "source": [
        "# number of classes \n",
        "k = len(set(y_train))\n",
        "print('number of classes are: ',k)"
      ],
      "metadata": {
        "colab": {
          "base_uri": "https://localhost:8080/"
        },
        "id": "lLJFb9cXPTma",
        "outputId": "68bc0c0f-25fd-4e8d-8d47-2fa89e5b0756"
      },
      "execution_count": null,
      "outputs": [
        {
          "output_type": "stream",
          "name": "stdout",
          "text": [
            "number of classes are:  10\n"
          ]
        }
      ]
    },
    {
      "cell_type": "code",
      "source": [
        "#build the model using functional api\n",
        "\n",
        "i = Input(x_train[0].shape)\n",
        "x = Conv2D(32, (3,3), strides=2, activation = 'relu')(i)\n",
        "x = Conv2D(64, (3,3), strides=2, activation = 'relu')(x)\n",
        "x = Conv2D(128, (3,3), strides=2, activation = 'relu')(x)\n",
        "x = Flatten()(x)\n",
        "x = Dropout(0.2)(x)\n",
        "x = Dense(512 , activation = 'relu')(x)\n",
        "x = Dropout(0.2)(x)\n",
        "x = Dense(k, activation = 'softmax')(x)\n",
        "\n",
        "model = Model(i,x)\n",
        "\n",
        "model.compile(optimizer = 'adam',\n",
        "              loss = 'sparse_categorical_crossentropy',\n",
        "              metrics = ['accuracy'])\n",
        "\n",
        "r = model.fit(x_train, y_train, validation_data=(x_test, y_test), epochs = 15)"
      ],
      "metadata": {
        "colab": {
          "base_uri": "https://localhost:8080/"
        },
        "id": "RIll-riHPgnX",
        "outputId": "7fc96393-13b5-4f6e-9b8b-de3a9b35b23d"
      },
      "execution_count": null,
      "outputs": [
        {
          "output_type": "stream",
          "name": "stdout",
          "text": [
            "Epoch 1/15\n",
            "1875/1875 [==============================] - 33s 17ms/step - loss: 0.5309 - accuracy: 0.8041 - val_loss: 0.4046 - val_accuracy: 0.8511\n",
            "Epoch 2/15\n",
            "1875/1875 [==============================] - 32s 17ms/step - loss: 0.3712 - accuracy: 0.8602 - val_loss: 0.3542 - val_accuracy: 0.8647\n",
            "Epoch 3/15\n",
            "1875/1875 [==============================] - 33s 18ms/step - loss: 0.3221 - accuracy: 0.8789 - val_loss: 0.3339 - val_accuracy: 0.8744\n",
            "Epoch 4/15\n",
            "1875/1875 [==============================] - 32s 17ms/step - loss: 0.2890 - accuracy: 0.8905 - val_loss: 0.3350 - val_accuracy: 0.8795\n",
            "Epoch 5/15\n",
            "1875/1875 [==============================] - 32s 17ms/step - loss: 0.2619 - accuracy: 0.9009 - val_loss: 0.2982 - val_accuracy: 0.8909\n",
            "Epoch 6/15\n",
            "1875/1875 [==============================] - 32s 17ms/step - loss: 0.2385 - accuracy: 0.9097 - val_loss: 0.2908 - val_accuracy: 0.8935\n",
            "Epoch 7/15\n",
            "1875/1875 [==============================] - 33s 17ms/step - loss: 0.2180 - accuracy: 0.9180 - val_loss: 0.2979 - val_accuracy: 0.8978\n",
            "Epoch 8/15\n",
            "1875/1875 [==============================] - 32s 17ms/step - loss: 0.2037 - accuracy: 0.9222 - val_loss: 0.2978 - val_accuracy: 0.8968\n",
            "Epoch 9/15\n",
            "1875/1875 [==============================] - 33s 17ms/step - loss: 0.1894 - accuracy: 0.9275 - val_loss: 0.3437 - val_accuracy: 0.8866\n",
            "Epoch 10/15\n",
            "1875/1875 [==============================] - 33s 18ms/step - loss: 0.1760 - accuracy: 0.9329 - val_loss: 0.3114 - val_accuracy: 0.9001\n",
            "Epoch 11/15\n",
            "1875/1875 [==============================] - 33s 17ms/step - loss: 0.1639 - accuracy: 0.9377 - val_loss: 0.3094 - val_accuracy: 0.9010\n",
            "Epoch 12/15\n",
            "1875/1875 [==============================] - 32s 17ms/step - loss: 0.1542 - accuracy: 0.9409 - val_loss: 0.3143 - val_accuracy: 0.9018\n",
            "Epoch 13/15\n",
            "1875/1875 [==============================] - 33s 18ms/step - loss: 0.1438 - accuracy: 0.9449 - val_loss: 0.3374 - val_accuracy: 0.9032\n",
            "Epoch 14/15\n",
            "1875/1875 [==============================] - 34s 18ms/step - loss: 0.1359 - accuracy: 0.9481 - val_loss: 0.3565 - val_accuracy: 0.9000\n",
            "Epoch 15/15\n",
            "1875/1875 [==============================] - 33s 18ms/step - loss: 0.1327 - accuracy: 0.9491 - val_loss: 0.3463 - val_accuracy: 0.9010\n"
          ]
        }
      ]
    },
    {
      "cell_type": "code",
      "source": [
        "plt.plot(r.history['loss'], label = 'loss')\n",
        "plt.plot(r.history['val_loss'], label= 'val_loss')\n",
        "plt.legend()"
      ],
      "metadata": {
        "colab": {
          "base_uri": "https://localhost:8080/",
          "height": 286
        },
        "id": "Y0GjOhIvQ5sM",
        "outputId": "6ab567e2-5372-41b3-b176-2ce34b6327bc"
      },
      "execution_count": null,
      "outputs": [
        {
          "output_type": "execute_result",
          "data": {
            "text/plain": [
              "<matplotlib.legend.Legend at 0x7f3dbc75b7d0>"
            ]
          },
          "metadata": {},
          "execution_count": 10
        },
        {
          "output_type": "display_data",
          "data": {
            "text/plain": [
              "<Figure size 432x288 with 1 Axes>"
            ],
            "image/png": "[encoded data removed]"
          },
          "metadata": {
            "needs_background": "light"
          }
        }
      ]
    },
    {
      "cell_type": "code",
      "source": [
        "plt.plot(r.history['accuracy'], label = 'accuracy')\n",
        "plt.plot(r.history['val_accuracy'], label= 'val_accuracy')\n",
        "plt.legend()"
      ],
      "metadata": {
        "colab": {
          "base_uri": "https://localhost:8080/",
          "height": 282
        },
        "id": "OJ1SOhmyTw2n",
        "outputId": "4086c527-f34d-49c9-e934-5a113b16560b"
      },
      "execution_count": null,
      "outputs": [
        {
          "output_type": "execute_result",
          "data": {
            "text/plain": [
              "<matplotlib.legend.Legend at 0x7f3dbc38f110>"
            ]
          },
          "metadata": {},
          "execution_count": 11
        },
        {
          "output_type": "display_data",
          "data": {
            "text/plain": [
              "<Figure size 432x288 with 1 Axes>"
            ],
            "image/png": "[encoded data removed]"
          },
          "metadata": {
            "needs_background": "light"
          }
        }
      ]
    },
    {
      "cell_type": "code",
      "source": [
        "labels = 'Tshirts/top Trouser Pullover dress coat sandal shirt sneaker bag ankleBoot'.split()"
      ],
      "metadata": {
        "id": "W5en9ndLT7xX"
      },
      "execution_count": null,
      "outputs": []
    },
    {
      "cell_type": "code",
      "source": [
        "p_test = model.predict(x_test).argmax(axis=1)\n",
        "miss_idx = np.where(p_test !=y_test)[0]\n",
        "i = np.random.choice(miss_idx)\n",
        "plt.imshow(x_test[i].reshape(28,28),cmap='gray')\n",
        "print('true label is {} predicted is {}'.format(y_test[0],p_test[0]))"
      ],
      "metadata": {
        "colab": {
          "base_uri": "https://localhost:8080/",
          "height": 282
        },
        "id": "edIMO0PtUzXH",
        "outputId": "72f2af0c-1a69-48c3-9a1c-a8d4d9566e3f"
      },
      "execution_count": null,
      "outputs": [
        {
          "output_type": "stream",
          "name": "stdout",
          "text": [
            "true label is 9 predicted is 9\n"
          ]
        },
        {
          "output_type": "display_data",
          "data": {
            "text/plain": [
              "<Figure size 432x288 with 1 Axes>"
            ],
            "image/png": "[encoded data removed]"
          },
          "metadata": {
            "needs_background": "light"
          }
        }
      ]
    },
    {
      "cell_type": "code",
      "source": [
        ""
      ],
      "metadata": {
        "id": "7ZLOFsCfVBUa"
      },
      "execution_count": null,
      "outputs": []
    }
  ]
}