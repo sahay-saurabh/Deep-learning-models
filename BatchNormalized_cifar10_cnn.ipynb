{
  "nbformat": 4,
  "nbformat_minor": 0,
  "metadata": {
    "colab": {
      "name": "Copy of BatchNormalized_cifar10_cnn.ipynb",
      "provenance": []
    },
    "kernelspec": {
      "name": "python3",
      "display_name": "Python 3"
    },
    "language_info": {
      "name": "python"
    },
    "accelerator": "GPU",
    "gpuClass": "standard"
  },
  "cells": [
    {
      "cell_type": "code",
      "execution_count": null,
      "metadata": {
        "id": "9M4UNvuFrzBE"
      },
      "outputs": [],
      "source": [
        "import tensorflow as tf"
      ]
    },
    {
      "cell_type": "code",
      "source": [
        "import numpy as np\n",
        "import matplotlib.pyplot as plt\n",
        "from tensorflow.keras.layers import Conv2D, Dense, Flatten, Dropout, Input, GlobalMaxPool2D, MaxPooling2D, BatchNormalization\n",
        "from tensorflow.keras.models import Model"
      ],
      "metadata": {
        "id": "HByZBo9Ir4C8"
      },
      "execution_count": null,
      "outputs": []
    },
    {
      "cell_type": "code",
      "source": [
        "cifar10 = tf.keras.datasets.cifar10\n",
        "\n",
        "(x_train, y_train),(x_test, y_test) = cifar10.load_data()\n",
        "\n",
        "x_train , x_test = x_train/255.0, x_test/255.0\n",
        "y_train , y_test = y_train.flatten(),y_test.flatten()\n",
        "\n",
        "print('x_train.shape ',x_train.shape)"
      ],
      "metadata": {
        "colab": {
          "base_uri": "https://localhost:8080/"
        },
        "id": "7uc52-wkvY5h",
        "outputId": "b2ac0a83-7ccd-432b-ca41-4d4760e6bc32"
      },
      "execution_count": null,
      "outputs": [
        {
          "output_type": "stream",
          "name": "stdout",
          "text": [
            "Downloading data from https://www.cs.toronto.edu/~kriz/cifar-10-python.tar.gz\n",
            "170500096/170498071 [==============================] - 4s 0us/step\n",
            "170508288/170498071 [==============================] - 4s 0us/step\n",
            "x_train.shape  (50000, 32, 32, 3)\n"
          ]
        }
      ]
    },
    {
      "cell_type": "code",
      "source": [
        "k = len(set(y_train))\n",
        "print('no. of classes ',k)"
      ],
      "metadata": {
        "colab": {
          "base_uri": "https://localhost:8080/"
        },
        "id": "4awz8Yv6vnNa",
        "outputId": "de969dfe-4a16-44a0-98bc-48240d91abf5"
      },
      "execution_count": null,
      "outputs": [
        {
          "output_type": "stream",
          "name": "stdout",
          "text": [
            "no. of classes  10\n"
          ]
        }
      ]
    },
    {
      "cell_type": "code",
      "source": [
        "i = Input(shape=x_train[0].shape)\n",
        "\n",
        "x = Conv2D(32, (3,3), activation = 'relu', padding = 'same')(i)\n",
        "x = Conv2D(32, (3,3), activation = 'relu', padding = 'same')(x)\n",
        "x = BatchNormalization()(x)\n",
        "x = MaxPooling2D((2,2))(x)\n",
        "\n",
        "x = Conv2D(64, (3,3), activation = 'relu', padding = 'same')(x)\n",
        "x = Conv2D(64, (3,3), activation = 'relu', padding = 'same')(x)\n",
        "x = BatchNormalization()(x)\n",
        "x = MaxPooling2D((2,2))(x)\n",
        "\n",
        "x = Conv2D(128, (3,3), activation = 'relu', padding = 'same')(x)\n",
        "x = Conv2D(128, (3,3), activation = 'relu', padding = 'same')(x)\n",
        "x = BatchNormalization()(x)\n",
        "x = MaxPooling2D((2,2))(x)\n",
        "\n",
        "x = Flatten()(x)\n",
        "x = Dropout(0.2)(x)\n",
        "x = Dense(1024, activation = 'relu')(x)\n",
        "x = Dropout(0.2)(x)\n",
        "x = Dense(k, activation = 'softmax')(x)\n",
        "\n",
        "model = Model(i,x)\n",
        "\n"
      ],
      "metadata": {
        "id": "KH9ZmZzVwHpU"
      },
      "execution_count": null,
      "outputs": []
    },
    {
      "cell_type": "code",
      "source": [
        "model.compile(optimizer = 'adam',\n",
        "              loss = 'sparse_categorical_crossentropy',\n",
        "              metrics = ['accuracy'])"
      ],
      "metadata": {
        "id": "GRWBdePlxikx"
      },
      "execution_count": null,
      "outputs": []
    },
    {
      "cell_type": "code",
      "source": [
        "r = model.fit(x_train, y_train, validation_data = (x_test, y_test), epochs = 50)"
      ],
      "metadata": {
        "colab": {
          "base_uri": "https://localhost:8080/"
        },
        "id": "Z4MwA1WSxw0p",
        "outputId": "5a7735ac-e030-4d48-c5b5-4f1f72785850"
      },
      "execution_count": null,
      "outputs": [
        {
          "output_type": "stream",
          "name": "stdout",
          "text": [
            "Epoch 1/50\n",
            "1563/1563 [==============================] - 11s 7ms/step - loss: 1.3505 - accuracy: 0.5275 - val_loss: 1.4703 - val_accuracy: 0.5133\n",
            "Epoch 2/50\n",
            "1563/1563 [==============================] - 10s 6ms/step - loss: 0.8920 - accuracy: 0.6883 - val_loss: 1.0257 - val_accuracy: 0.6594\n",
            "Epoch 3/50\n",
            "1563/1563 [==============================] - 10s 7ms/step - loss: 0.7338 - accuracy: 0.7457 - val_loss: 0.7974 - val_accuracy: 0.7243\n",
            "Epoch 4/50\n",
            "1563/1563 [==============================] - 10s 7ms/step - loss: 0.6322 - accuracy: 0.7832 - val_loss: 0.7435 - val_accuracy: 0.7435\n",
            "Epoch 5/50\n",
            "1563/1563 [==============================] - 10s 7ms/step - loss: 0.5368 - accuracy: 0.8155 - val_loss: 0.7081 - val_accuracy: 0.7704\n",
            "Epoch 6/50\n",
            "1563/1563 [==============================] - 10s 6ms/step - loss: 0.4665 - accuracy: 0.8384 - val_loss: 0.6859 - val_accuracy: 0.7784\n",
            "Epoch 7/50\n",
            "1563/1563 [==============================] - 10s 6ms/step - loss: 0.3958 - accuracy: 0.8615 - val_loss: 0.7867 - val_accuracy: 0.7519\n",
            "Epoch 8/50\n",
            "1563/1563 [==============================] - 10s 6ms/step - loss: 0.3368 - accuracy: 0.8856 - val_loss: 0.6453 - val_accuracy: 0.7975\n",
            "Epoch 9/50\n",
            "1563/1563 [==============================] - 10s 6ms/step - loss: 0.2863 - accuracy: 0.9016 - val_loss: 0.6823 - val_accuracy: 0.7922\n",
            "Epoch 10/50\n",
            "1563/1563 [==============================] - 10s 7ms/step - loss: 0.2490 - accuracy: 0.9138 - val_loss: 0.6586 - val_accuracy: 0.7956\n",
            "Epoch 11/50\n",
            "1563/1563 [==============================] - 10s 6ms/step - loss: 0.2153 - accuracy: 0.9273 - val_loss: 0.7212 - val_accuracy: 0.7978\n",
            "Epoch 12/50\n",
            "1563/1563 [==============================] - 10s 6ms/step - loss: 0.1917 - accuracy: 0.9341 - val_loss: 0.7148 - val_accuracy: 0.8083\n",
            "Epoch 13/50\n",
            "1563/1563 [==============================] - 10s 7ms/step - loss: 0.1747 - accuracy: 0.9414 - val_loss: 0.6852 - val_accuracy: 0.8107\n",
            "Epoch 14/50\n",
            "1563/1563 [==============================] - 10s 7ms/step - loss: 0.1622 - accuracy: 0.9450 - val_loss: 0.7924 - val_accuracy: 0.7886\n",
            "Epoch 15/50\n",
            "1563/1563 [==============================] - 10s 7ms/step - loss: 0.1438 - accuracy: 0.9514 - val_loss: 0.8264 - val_accuracy: 0.8100\n",
            "Epoch 16/50\n",
            "1563/1563 [==============================] - 10s 7ms/step - loss: 0.1341 - accuracy: 0.9548 - val_loss: 0.7600 - val_accuracy: 0.8101\n",
            "Epoch 17/50\n",
            "1563/1563 [==============================] - 10s 7ms/step - loss: 0.1269 - accuracy: 0.9577 - val_loss: 0.7135 - val_accuracy: 0.8152\n",
            "Epoch 18/50\n",
            "1563/1563 [==============================] - 11s 7ms/step - loss: 0.1203 - accuracy: 0.9601 - val_loss: 0.7874 - val_accuracy: 0.8118\n",
            "Epoch 19/50\n",
            "1563/1563 [==============================] - 10s 7ms/step - loss: 0.1172 - accuracy: 0.9613 - val_loss: 0.7583 - val_accuracy: 0.8203\n",
            "Epoch 20/50\n",
            "1563/1563 [==============================] - 10s 6ms/step - loss: 0.1027 - accuracy: 0.9655 - val_loss: 0.8738 - val_accuracy: 0.8078\n",
            "Epoch 21/50\n",
            "1563/1563 [==============================] - 10s 6ms/step - loss: 0.1013 - accuracy: 0.9669 - val_loss: 0.8208 - val_accuracy: 0.8089\n",
            "Epoch 22/50\n",
            "1563/1563 [==============================] - 10s 7ms/step - loss: 0.0940 - accuracy: 0.9686 - val_loss: 0.8361 - val_accuracy: 0.8014\n",
            "Epoch 23/50\n",
            "1563/1563 [==============================] - 10s 6ms/step - loss: 0.0910 - accuracy: 0.9702 - val_loss: 0.8310 - val_accuracy: 0.8246\n",
            "Epoch 24/50\n",
            "1563/1563 [==============================] - 10s 6ms/step - loss: 0.0857 - accuracy: 0.9717 - val_loss: 0.9201 - val_accuracy: 0.8154\n",
            "Epoch 25/50\n",
            "1563/1563 [==============================] - 10s 6ms/step - loss: 0.0840 - accuracy: 0.9719 - val_loss: 0.8716 - val_accuracy: 0.8271\n",
            "Epoch 26/50\n",
            "1563/1563 [==============================] - 10s 6ms/step - loss: 0.0849 - accuracy: 0.9720 - val_loss: 0.8364 - val_accuracy: 0.8276\n",
            "Epoch 27/50\n",
            "1563/1563 [==============================] - 10s 6ms/step - loss: 0.0731 - accuracy: 0.9753 - val_loss: 0.8607 - val_accuracy: 0.8243\n",
            "Epoch 28/50\n",
            "1563/1563 [==============================] - 10s 6ms/step - loss: 0.0788 - accuracy: 0.9744 - val_loss: 0.8210 - val_accuracy: 0.8234\n",
            "Epoch 29/50\n",
            "1563/1563 [==============================] - 10s 7ms/step - loss: 0.0725 - accuracy: 0.9766 - val_loss: 0.8682 - val_accuracy: 0.8110\n",
            "Epoch 30/50\n",
            "1563/1563 [==============================] - 10s 7ms/step - loss: 0.0683 - accuracy: 0.9772 - val_loss: 0.8687 - val_accuracy: 0.8193\n",
            "Epoch 31/50\n",
            "1563/1563 [==============================] - 10s 6ms/step - loss: 0.0672 - accuracy: 0.9772 - val_loss: 0.9081 - val_accuracy: 0.8150\n",
            "Epoch 32/50\n",
            "1563/1563 [==============================] - 10s 6ms/step - loss: 0.0662 - accuracy: 0.9783 - val_loss: 0.8848 - val_accuracy: 0.8184\n",
            "Epoch 33/50\n",
            "1563/1563 [==============================] - 10s 7ms/step - loss: 0.0620 - accuracy: 0.9788 - val_loss: 0.8500 - val_accuracy: 0.8271\n",
            "Epoch 34/50\n",
            "1563/1563 [==============================] - 10s 6ms/step - loss: 0.0613 - accuracy: 0.9804 - val_loss: 0.8405 - val_accuracy: 0.8336\n",
            "Epoch 35/50\n",
            "1563/1563 [==============================] - 10s 7ms/step - loss: 0.0598 - accuracy: 0.9805 - val_loss: 0.8267 - val_accuracy: 0.8130\n",
            "Epoch 36/50\n",
            "1563/1563 [==============================] - 10s 7ms/step - loss: 0.0635 - accuracy: 0.9797 - val_loss: 0.9485 - val_accuracy: 0.8165\n",
            "Epoch 37/50\n",
            "1563/1563 [==============================] - 10s 6ms/step - loss: 0.0571 - accuracy: 0.9816 - val_loss: 0.9241 - val_accuracy: 0.8247\n",
            "Epoch 38/50\n",
            "1563/1563 [==============================] - 10s 6ms/step - loss: 0.0544 - accuracy: 0.9827 - val_loss: 0.8872 - val_accuracy: 0.8263\n",
            "Epoch 39/50\n",
            "1563/1563 [==============================] - 10s 6ms/step - loss: 0.0536 - accuracy: 0.9820 - val_loss: 0.9132 - val_accuracy: 0.8278\n",
            "Epoch 40/50\n",
            "1563/1563 [==============================] - 10s 7ms/step - loss: 0.0524 - accuracy: 0.9828 - val_loss: 0.8790 - val_accuracy: 0.8130\n",
            "Epoch 41/50\n",
            "1563/1563 [==============================] - 10s 6ms/step - loss: 0.0520 - accuracy: 0.9836 - val_loss: 0.9022 - val_accuracy: 0.8256\n",
            "Epoch 42/50\n",
            "1563/1563 [==============================] - 10s 6ms/step - loss: 0.0477 - accuracy: 0.9848 - val_loss: 1.0596 - val_accuracy: 0.8193\n",
            "Epoch 43/50\n",
            "1563/1563 [==============================] - 10s 6ms/step - loss: 0.0533 - accuracy: 0.9832 - val_loss: 0.8806 - val_accuracy: 0.8188\n",
            "Epoch 44/50\n",
            "1563/1563 [==============================] - 10s 7ms/step - loss: 0.0498 - accuracy: 0.9845 - val_loss: 0.8328 - val_accuracy: 0.8302\n",
            "Epoch 45/50\n",
            "1563/1563 [==============================] - 10s 7ms/step - loss: 0.0500 - accuracy: 0.9840 - val_loss: 0.8663 - val_accuracy: 0.8310\n",
            "Epoch 46/50\n",
            "1563/1563 [==============================] - 10s 6ms/step - loss: 0.0435 - accuracy: 0.9860 - val_loss: 0.9302 - val_accuracy: 0.8276\n",
            "Epoch 47/50\n",
            "1563/1563 [==============================] - 11s 7ms/step - loss: 0.0481 - accuracy: 0.9841 - val_loss: 0.9252 - val_accuracy: 0.8259\n",
            "Epoch 48/50\n",
            "1563/1563 [==============================] - 10s 6ms/step - loss: 0.0450 - accuracy: 0.9859 - val_loss: 0.9781 - val_accuracy: 0.8192\n",
            "Epoch 49/50\n",
            "1563/1563 [==============================] - 10s 6ms/step - loss: 0.0483 - accuracy: 0.9847 - val_loss: 0.9749 - val_accuracy: 0.8123\n",
            "Epoch 50/50\n",
            "1563/1563 [==============================] - 10s 7ms/step - loss: 0.0468 - accuracy: 0.9848 - val_loss: 0.8837 - val_accuracy: 0.8258\n"
          ]
        }
      ]
    },
    {
      "cell_type": "code",
      "source": [
        "batch_size = 32\n",
        "data_generator = tf.keras.preprocessing.image.ImageDataGenerator(width_shift_range=0.1, height_shift_range=0.1, horizontal_flip=True)\n",
        "train_generator = data_generator.flow(x_train, y_train, batch_size)\n",
        "steps_per_epoch = x_train.shape[0] // batch_size\n",
        "r = model.fit(train_generator, validation_data = (x_test, y_test), steps_per_epoch = steps_per_epoch, epochs = 50)"
      ],
      "metadata": {
        "colab": {
          "base_uri": "https://localhost:8080/"
        },
        "id": "pBSGc3wlyA9Q",
        "outputId": "c921f419-bc2c-4b0e-8a0b-d084e95d3014"
      },
      "execution_count": null,
      "outputs": [
        {
          "output_type": "stream",
          "name": "stdout",
          "text": [
            "Epoch 1/50\n",
            "1562/1562 [==============================] - 29s 19ms/step - loss: 0.4717 - accuracy: 0.8456 - val_loss: 0.4884 - val_accuracy: 0.8441\n",
            "Epoch 2/50\n",
            "1562/1562 [==============================] - 29s 19ms/step - loss: 0.4368 - accuracy: 0.8560 - val_loss: 0.5398 - val_accuracy: 0.8241\n",
            "Epoch 3/50\n",
            "1562/1562 [==============================] - 29s 18ms/step - loss: 0.4143 - accuracy: 0.8613 - val_loss: 0.5105 - val_accuracy: 0.8391\n",
            "Epoch 4/50\n",
            "1562/1562 [==============================] - 29s 19ms/step - loss: 0.3992 - accuracy: 0.8653 - val_loss: 0.4925 - val_accuracy: 0.8438\n",
            "Epoch 5/50\n",
            "1562/1562 [==============================] - 29s 19ms/step - loss: 0.3791 - accuracy: 0.8743 - val_loss: 0.5014 - val_accuracy: 0.8409\n",
            "Epoch 6/50\n",
            "1562/1562 [==============================] - 30s 19ms/step - loss: 0.3683 - accuracy: 0.8763 - val_loss: 0.4871 - val_accuracy: 0.8449\n",
            "Epoch 7/50\n",
            "1562/1562 [==============================] - 30s 19ms/step - loss: 0.3533 - accuracy: 0.8804 - val_loss: 0.4651 - val_accuracy: 0.8513\n",
            "Epoch 8/50\n",
            "1562/1562 [==============================] - 30s 19ms/step - loss: 0.3455 - accuracy: 0.8833 - val_loss: 0.5010 - val_accuracy: 0.8436\n",
            "Epoch 9/50\n",
            "1562/1562 [==============================] - 30s 19ms/step - loss: 0.3384 - accuracy: 0.8846 - val_loss: 0.4427 - val_accuracy: 0.8583\n",
            "Epoch 10/50\n",
            "1562/1562 [==============================] - 29s 19ms/step - loss: 0.3283 - accuracy: 0.8898 - val_loss: 0.4533 - val_accuracy: 0.8527\n",
            "Epoch 11/50\n",
            "1562/1562 [==============================] - 29s 18ms/step - loss: 0.3131 - accuracy: 0.8937 - val_loss: 0.4823 - val_accuracy: 0.8430\n",
            "Epoch 12/50\n",
            "1562/1562 [==============================] - 29s 18ms/step - loss: 0.3123 - accuracy: 0.8940 - val_loss: 0.4862 - val_accuracy: 0.8454\n",
            "Epoch 13/50\n",
            "1562/1562 [==============================] - 29s 19ms/step - loss: 0.3005 - accuracy: 0.8988 - val_loss: 0.4405 - val_accuracy: 0.8562\n",
            "Epoch 14/50\n",
            "1562/1562 [==============================] - 30s 19ms/step - loss: 0.2901 - accuracy: 0.9006 - val_loss: 0.4661 - val_accuracy: 0.8581\n",
            "Epoch 15/50\n",
            "1562/1562 [==============================] - 29s 18ms/step - loss: 0.2890 - accuracy: 0.9019 - val_loss: 0.4875 - val_accuracy: 0.8524\n",
            "Epoch 16/50\n",
            "1562/1562 [==============================] - 29s 18ms/step - loss: 0.2841 - accuracy: 0.9037 - val_loss: 0.5189 - val_accuracy: 0.8473\n",
            "Epoch 17/50\n",
            "1562/1562 [==============================] - 29s 18ms/step - loss: 0.2740 - accuracy: 0.9065 - val_loss: 0.4542 - val_accuracy: 0.8631\n",
            "Epoch 18/50\n",
            "1562/1562 [==============================] - 29s 18ms/step - loss: 0.2726 - accuracy: 0.9081 - val_loss: 0.4424 - val_accuracy: 0.8579\n",
            "Epoch 19/50\n",
            "1562/1562 [==============================] - 28s 18ms/step - loss: 0.2665 - accuracy: 0.9104 - val_loss: 0.4151 - val_accuracy: 0.8624\n",
            "Epoch 20/50\n",
            "1562/1562 [==============================] - 29s 18ms/step - loss: 0.2618 - accuracy: 0.9101 - val_loss: 0.4413 - val_accuracy: 0.8601\n",
            "Epoch 21/50\n",
            "1562/1562 [==============================] - 29s 19ms/step - loss: 0.2594 - accuracy: 0.9113 - val_loss: 0.4220 - val_accuracy: 0.8646\n",
            "Epoch 22/50\n",
            "1562/1562 [==============================] - 28s 18ms/step - loss: 0.2548 - accuracy: 0.9131 - val_loss: 0.4480 - val_accuracy: 0.8661\n",
            "Epoch 23/50\n",
            "1562/1562 [==============================] - 29s 18ms/step - loss: 0.2458 - accuracy: 0.9160 - val_loss: 0.4345 - val_accuracy: 0.8645\n",
            "Epoch 24/50\n",
            "1562/1562 [==============================] - 29s 18ms/step - loss: 0.2478 - accuracy: 0.9164 - val_loss: 0.4884 - val_accuracy: 0.8580\n",
            "Epoch 25/50\n",
            "1562/1562 [==============================] - 29s 19ms/step - loss: 0.2435 - accuracy: 0.9160 - val_loss: 0.4570 - val_accuracy: 0.8637\n",
            "Epoch 26/50\n",
            "1562/1562 [==============================] - 29s 19ms/step - loss: 0.2356 - accuracy: 0.9206 - val_loss: 0.5477 - val_accuracy: 0.8514\n",
            "Epoch 27/50\n",
            "1562/1562 [==============================] - 29s 18ms/step - loss: 0.2349 - accuracy: 0.9204 - val_loss: 0.4158 - val_accuracy: 0.8707\n",
            "Epoch 28/50\n",
            "1562/1562 [==============================] - 29s 18ms/step - loss: 0.2288 - accuracy: 0.9218 - val_loss: 0.4668 - val_accuracy: 0.8636\n",
            "Epoch 29/50\n",
            "1562/1562 [==============================] - 29s 18ms/step - loss: 0.2241 - accuracy: 0.9249 - val_loss: 0.4496 - val_accuracy: 0.8713\n",
            "Epoch 30/50\n",
            "1562/1562 [==============================] - 29s 19ms/step - loss: 0.2253 - accuracy: 0.9230 - val_loss: 0.4534 - val_accuracy: 0.8682\n",
            "Epoch 31/50\n",
            "1562/1562 [==============================] - 29s 19ms/step - loss: 0.2147 - accuracy: 0.9274 - val_loss: 0.4420 - val_accuracy: 0.8686\n",
            "Epoch 32/50\n",
            "1562/1562 [==============================] - 29s 19ms/step - loss: 0.2175 - accuracy: 0.9257 - val_loss: 0.4283 - val_accuracy: 0.8687\n",
            "Epoch 33/50\n",
            "1562/1562 [==============================] - 30s 19ms/step - loss: 0.2130 - accuracy: 0.9257 - val_loss: 0.4463 - val_accuracy: 0.8706\n",
            "Epoch 34/50\n",
            "1562/1562 [==============================] - 30s 19ms/step - loss: 0.2080 - accuracy: 0.9287 - val_loss: 0.4102 - val_accuracy: 0.8727\n",
            "Epoch 35/50\n",
            "1562/1562 [==============================] - 31s 20ms/step - loss: 0.2061 - accuracy: 0.9294 - val_loss: 0.4782 - val_accuracy: 0.8621\n",
            "Epoch 36/50\n",
            "1562/1562 [==============================] - 31s 20ms/step - loss: 0.2056 - accuracy: 0.9301 - val_loss: 0.4603 - val_accuracy: 0.8667\n",
            "Epoch 37/50\n",
            "1562/1562 [==============================] - 30s 19ms/step - loss: 0.2099 - accuracy: 0.9288 - val_loss: 0.4507 - val_accuracy: 0.8674\n",
            "Epoch 38/50\n",
            "1562/1562 [==============================] - 30s 19ms/step - loss: 0.2012 - accuracy: 0.9325 - val_loss: 0.4738 - val_accuracy: 0.8659\n",
            "Epoch 39/50\n",
            "1562/1562 [==============================] - 31s 20ms/step - loss: 0.1996 - accuracy: 0.9326 - val_loss: 0.4137 - val_accuracy: 0.8795\n",
            "Epoch 40/50\n",
            "1562/1562 [==============================] - 30s 19ms/step - loss: 0.1979 - accuracy: 0.9327 - val_loss: 0.5065 - val_accuracy: 0.8660\n",
            "Epoch 41/50\n",
            "1562/1562 [==============================] - 30s 19ms/step - loss: 0.1955 - accuracy: 0.9341 - val_loss: 0.4730 - val_accuracy: 0.8678\n",
            "Epoch 42/50\n",
            "1562/1562 [==============================] - 30s 19ms/step - loss: 0.1911 - accuracy: 0.9352 - val_loss: 0.4588 - val_accuracy: 0.8676\n",
            "Epoch 43/50\n",
            "1562/1562 [==============================] - 30s 19ms/step - loss: 0.1899 - accuracy: 0.9368 - val_loss: 0.4575 - val_accuracy: 0.8710\n",
            "Epoch 44/50\n",
            "1562/1562 [==============================] - 29s 19ms/step - loss: 0.1821 - accuracy: 0.9377 - val_loss: 0.4993 - val_accuracy: 0.8632\n",
            "Epoch 45/50\n",
            "1562/1562 [==============================] - 30s 19ms/step - loss: 0.1917 - accuracy: 0.9352 - val_loss: 0.4290 - val_accuracy: 0.8715\n",
            "Epoch 46/50\n",
            "1562/1562 [==============================] - 29s 19ms/step - loss: 0.1909 - accuracy: 0.9355 - val_loss: 0.4600 - val_accuracy: 0.8707\n",
            "Epoch 47/50\n",
            "1562/1562 [==============================] - 30s 19ms/step - loss: 0.1838 - accuracy: 0.9375 - val_loss: 0.5013 - val_accuracy: 0.8638\n",
            "Epoch 48/50\n",
            "1562/1562 [==============================] - 30s 19ms/step - loss: 0.1765 - accuracy: 0.9407 - val_loss: 0.4661 - val_accuracy: 0.8724\n",
            "Epoch 49/50\n",
            "1562/1562 [==============================] - 29s 19ms/step - loss: 0.1854 - accuracy: 0.9381 - val_loss: 0.4298 - val_accuracy: 0.8767\n",
            "Epoch 50/50\n",
            "1562/1562 [==============================] - 29s 19ms/step - loss: 0.1799 - accuracy: 0.9391 - val_loss: 0.4754 - val_accuracy: 0.8743\n"
          ]
        }
      ]
    },
    {
      "cell_type": "code",
      "source": [
        "model.evaluate(x_test, y_test)"
      ],
      "metadata": {
        "colab": {
          "base_uri": "https://localhost:8080/"
        },
        "id": "OO_bd_HP3C4Z",
        "outputId": "4cf44e4b-ac83-4bde-cc02-e8b232d39d71"
      },
      "execution_count": null,
      "outputs": [
        {
          "output_type": "stream",
          "name": "stdout",
          "text": [
            "313/313 [==============================] - 1s 4ms/step - loss: 0.4754 - accuracy: 0.8743\n"
          ]
        },
        {
          "output_type": "execute_result",
          "data": {
            "text/plain": [
              "[0.4754253923892975, 0.8743000030517578]"
            ]
          },
          "metadata": {},
          "execution_count": 15
        }
      ]
    },
    {
      "cell_type": "code",
      "source": [
        "model.summary()"
      ],
      "metadata": {
        "colab": {
          "base_uri": "https://localhost:8080/"
        },
        "id": "BGdeO8Yc-yoy",
        "outputId": "d707fefa-8d1a-4312-fd69-bf1825379160"
      },
      "execution_count": null,
      "outputs": [
        {
          "output_type": "stream",
          "name": "stdout",
          "text": [
            "Model: \"model_1\"\n",
            "_________________________________________________________________\n",
            " Layer (type)                Output Shape              Param #   \n",
            "=================================================================\n",
            " input_2 (InputLayer)        [(None, 32, 32, 3)]       0         \n",
            "                                                                 \n",
            " conv2d_6 (Conv2D)           (None, 32, 32, 32)        896       \n",
            "                                                                 \n",
            " conv2d_7 (Conv2D)           (None, 32, 32, 32)        9248      \n",
            "                                                                 \n",
            " batch_normalization_3 (Batc  (None, 32, 32, 32)       128       \n",
            " hNormalization)                                                 \n",
            "                                                                 \n",
            " max_pooling2d_3 (MaxPooling  (None, 16, 16, 32)       0         \n",
            " 2D)                                                             \n",
            "                                                                 \n",
            " conv2d_8 (Conv2D)           (None, 16, 16, 64)        18496     \n",
            "                                                                 \n",
            " conv2d_9 (Conv2D)           (None, 16, 16, 64)        36928     \n",
            "                                                                 \n",
            " batch_normalization_4 (Batc  (None, 16, 16, 64)       256       \n",
            " hNormalization)                                                 \n",
            "                                                                 \n",
            " max_pooling2d_4 (MaxPooling  (None, 8, 8, 64)         0         \n",
            " 2D)                                                             \n",
            "                                                                 \n",
            " conv2d_10 (Conv2D)          (None, 8, 8, 128)         73856     \n",
            "                                                                 \n",
            " conv2d_11 (Conv2D)          (None, 8, 8, 128)         147584    \n",
            "                                                                 \n",
            " batch_normalization_5 (Batc  (None, 8, 8, 128)        512       \n",
            " hNormalization)                                                 \n",
            "                                                                 \n",
            " max_pooling2d_5 (MaxPooling  (None, 4, 4, 128)        0         \n",
            " 2D)                                                             \n",
            "                                                                 \n",
            " flatten_1 (Flatten)         (None, 2048)              0         \n",
            "                                                                 \n",
            " dropout_2 (Dropout)         (None, 2048)              0         \n",
            "                                                                 \n",
            " dense_2 (Dense)             (None, 1024)              2098176   \n",
            "                                                                 \n",
            " dropout_3 (Dropout)         (None, 1024)              0         \n",
            "                                                                 \n",
            " dense_3 (Dense)             (None, 10)                10250     \n",
            "                                                                 \n",
            "=================================================================\n",
            "Total params: 2,396,330\n",
            "Trainable params: 2,395,882\n",
            "Non-trainable params: 448\n",
            "_________________________________________________________________\n"
          ]
        }
      ]
    },
    {
      "cell_type": "code",
      "source": [
        "predictions  = model.predict(x_test)\n",
        "\n",
        "#The following 7 lines are all that is required to plot the confusion matrix.\n",
        "predictions_for_cm = predictions.argmax(1)\n",
        "\n",
        "from sklearn.metrics import confusion_matrix\n",
        "import seaborn as sns\n",
        "class_names = [\"airplane\",\"automobile\",\"bird\",\"cat\",\"deer\",\"dog\",\"frog\",\"horse\",\"ship\",\"truck\"]\n",
        "\n",
        "cm = confusion_matrix(y_test,predictions_for_cm)\n",
        "plt.figure(figsize=(8,8))\n",
        "sns.heatmap(cm, annot=True,  xticklabels=class_names, yticklabels = class_names, fmt='g')"
      ],
      "metadata": {
        "colab": {
          "base_uri": "https://localhost:8080/",
          "height": 546
        },
        "id": "9EO80dJKBXx3",
        "outputId": "27323ee5-6483-4e88-80ab-5e73a66d7f81"
      },
      "execution_count": null,
      "outputs": [
        {
          "output_type": "execute_result",
          "data": {
            "text/plain": [
              "<matplotlib.axes._subplots.AxesSubplot at 0x7fd229152910>"
            ]
          },
          "metadata": {},
          "execution_count": 27
        },
        {
          "output_type": "display_data",
          "data": {
            "text/plain": [
              "<Figure size 576x576 with 2 Axes>"
            ],
            "image/png": "[encoded data removed]"
          },
          "metadata": {
            "needs_background": "light"
          }
        }
      ]
    },
    {
      "cell_type": "code",
      "source": [
        ""
      ],
      "metadata": {
        "id": "-8kEdfFgCt0e"
      },
      "execution_count": null,
      "outputs": []
    }
  ]
}